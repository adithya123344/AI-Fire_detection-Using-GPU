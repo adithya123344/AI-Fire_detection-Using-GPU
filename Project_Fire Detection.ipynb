{
 "cells": [
  {
   "cell_type": "code",
   "execution_count": 18,
   "metadata": {
    "executionInfo": {
     "elapsed": 145,
     "status": "ok",
     "timestamp": 1714431069222,
     "user": {
      "displayName": "Sirisha Gathpa",
      "userId": "11644914995947802696"
     },
     "user_tz": 240
    },
    "id": "vPE5iPbp-wr4"
   },
   "outputs": [],
   "source": [
    "import os\n",
    "import shutil\n",
    "import warnings"
   ]
  },
  {
   "cell_type": "markdown",
   "metadata": {
    "id": "2dREIFUM_FIA"
   },
   "source": [
    "Remove Warnings"
   ]
  },
  {
   "cell_type": "code",
   "execution_count": 19,
   "metadata": {
    "executionInfo": {
     "elapsed": 12,
     "status": "ok",
     "timestamp": 1714431069426,
     "user": {
      "displayName": "Sirisha Gathpa",
      "userId": "11644914995947802696"
     },
     "user_tz": 240
    },
    "id": "I6nnN7IL_LGx"
   },
   "outputs": [],
   "source": [
    "warnings.filterwarnings(\"ignore\")"
   ]
  },
  {
   "cell_type": "code",
   "execution_count": 20,
   "metadata": {
    "executionInfo": {
     "elapsed": 12,
     "status": "ok",
     "timestamp": 1714431069426,
     "user": {
      "displayName": "Sirisha Gathpa",
      "userId": "11644914995947802696"
     },
     "user_tz": 240
    },
    "id": "Pas6UZhF_q_3"
   },
   "outputs": [],
   "source": [
    "import tensorflow as tf\n",
    "from tensorflow.keras.preprocessing.image import ImageDataGenerator"
   ]
  },
  {
   "cell_type": "code",
   "execution_count": 21,
   "metadata": {
    "colab": {
     "base_uri": "https://localhost:8080/",
     "height": 36
    },
    "executionInfo": {
     "elapsed": 12,
     "status": "ok",
     "timestamp": 1714431069427,
     "user": {
      "displayName": "Sirisha Gathpa",
      "userId": "11644914995947802696"
     },
     "user_tz": 240
    },
    "id": "_x56n4wQAtjh",
    "outputId": "cf93898f-ce06-4d65-aacc-4ede4f2a14d2"
   },
   "outputs": [
    {
     "data": {
      "application/vnd.google.colaboratory.intrinsic+json": {
       "type": "string"
      },
      "text/plain": [
       "'2.15.0'"
      ]
     },
     "execution_count": 21,
     "metadata": {},
     "output_type": "execute_result"
    }
   ],
   "source": [
    "tf.__version__"
   ]
  },
  {
   "cell_type": "markdown",
   "metadata": {
    "id": "ihFSA9gVA6kH"
   },
   "source": [
    "Data Preprocessing"
   ]
  },
  {
   "cell_type": "code",
   "execution_count": 22,
   "metadata": {
    "executionInfo": {
     "elapsed": 11,
     "status": "ok",
     "timestamp": 1714431069427,
     "user": {
      "displayName": "Sirisha Gathpa",
      "userId": "11644914995947802696"
     },
     "user_tz": 240
    },
    "id": "XSnDb-OEBBAn"
   },
   "outputs": [],
   "source": [
    "train_path = \"/content/Smoke and Fire Dataset\""
   ]
  },
  {
   "cell_type": "code",
   "execution_count": 24,
   "metadata": {
    "executionInfo": {
     "elapsed": 153,
     "status": "ok",
     "timestamp": 1714431111037,
     "user": {
      "displayName": "Sirisha Gathpa",
      "userId": "11644914995947802696"
     },
     "user_tz": 240
    },
    "id": "ybc2VXYkBOY6"
   },
   "outputs": [],
   "source": [
    "train_dg = ImageDataGenerator(rescale=1./255, horizontal_flip=True, vertical_flip=True,\n",
    "shear_range=0.2, zoom_range=8.2, width_shift_range=0.2, height_shift_range=0.2, validation_split=0.1)"
   ]
  },
  {
   "cell_type": "code",
   "execution_count": 28,
   "metadata": {
    "colab": {
     "base_uri": "https://localhost:8080/"
    },
    "executionInfo": {
     "elapsed": 180,
     "status": "ok",
     "timestamp": 1714431862257,
     "user": {
      "displayName": "Sirisha Gathpa",
      "userId": "11644914995947802696"
     },
     "user_tz": 240
    },
    "id": "LkuPdfUjDyzS",
    "outputId": "338f28ef-846e-4065-f273-5058d3924da8"
   },
   "outputs": [
    {
     "name": "stdout",
     "output_type": "stream",
     "text": [
      "Found 0 images belonging to 0 classes.\n",
      "Found 0 images belonging to 0 classes.\n"
     ]
    }
   ],
   "source": [
    "train = train_dg.flow_from_directory(train_path,target_size=(224,224),color_mode='rgb', class_mode='binary', batch_size=16, subset=\"training\")\n",
    "val = train_dg.flow_from_directory(train_path,target_size=(224,224),color_mode='rgb', class_mode='binary', batch_size=16, subset=\"validation\")\n"
   ]
  }
 ],
 "metadata": {
  "colab": {
   "authorship_tag": "ABX9TyMETIE5WyGVxJCwsbMdk5yg",
   "provenance": []
  },
  "kernelspec": {
   "display_name": "Python 3 (ipykernel)",
   "language": "python",
   "name": "python3"
  },
  "language_info": {
   "codemirror_mode": {
    "name": "ipython",
    "version": 3
   },
   "file_extension": ".py",
   "mimetype": "text/x-python",
   "name": "python",
   "nbconvert_exporter": "python",
   "pygments_lexer": "ipython3",
   "version": "3.9.13"
  }
 },
 "nbformat": 4,
 "nbformat_minor": 1
}
